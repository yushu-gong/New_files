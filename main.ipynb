{
 "cells": [
  {
   "cell_type": "code",
   "execution_count": 1,
   "metadata": {},
   "outputs": [
    {
     "name": "stdout",
     "output_type": "stream",
     "text": [
      "title first_name last_name\n",
      "Not in menu\n",
      "KeyError: Nonexistent Food not found in calories and combos\n",
      "Total calories:3020\n",
      "3020\n"
     ]
    }
   ],
   "source": [
    "from module_counter.calorie_counter import meals\n",
    "\n",
    "meals_1 = [\"Hamburger\", \"Cheese Burger\",\"Nonexistent Food\"]\n",
    "meals_2 = ['Hamburger', \"Cheesy Combo\"]\n",
    "result = meals(meals_1, meals_2)\n",
    "\n",
    "print(result)"
   ]
  },
  {
   "cell_type": "code",
   "execution_count": 7,
   "metadata": {},
   "outputs": [
    {
     "name": "stdout",
     "output_type": "stream",
     "text": [
      "Error: Meal is too big 1200 calories is too much!\n",
      "Error: abc123\n"
     ]
    }
   ],
   "source": [
    "from module_counter.exceptions_counter import MealTooBigError, InvalidItemId\n",
    "\n",
    "def process_meal(calories):\n",
    "    try:\n",
    "        if calories > 1000:\n",
    "            raise MealTooBigError(calories)\n",
    "        print(\"Meal processed successfully!\")\n",
    "    except MealTooBigError as e:\n",
    "        print(f\"Error: {e}\")\n",
    "\n",
    "def process_item(item_id):\n",
    "    try:\n",
    "        if not item_id.isdigit():\n",
    "            raise InvalidItemId(item_id)\n",
    "        print(\"Item processed successfully!\")\n",
    "    except InvalidItemId as e:\n",
    "        print(f\"Error: {e}\")\n",
    "\n",
    "process_meal(1200)\n",
    "process_item(\"abc123\")\n"
   ]
  },
  {
   "cell_type": "code",
   "execution_count": 9,
   "metadata": {},
   "outputs": [],
   "source": [
    "from module_counter.exceptions_counter import MealTooBigError, InvalidItemId\n",
    "from module_counter.functions_counter import calories_counter, prices_counter\n",
    "from unittest import TestCase\n",
    "\n",
    "class CaloriesCounterTestCase(TestCase):\n",
    "    def test_counter_meals_calories(self):\n",
    "        result = calories_counter([\"meal-1\", \"meal-2\", \"meal-3\"], meals, combos)\n",
    "        self.assertEqual(result, 1750, f\"Expected 1750, got {result}\")\n",
    "\n",
    "class PriceCounterTestCase(TestCase):\n",
    "    def test_count_meals_price(self):\n",
    "        result = prices_counter([\"meal-1\",\"meal-2\",\"meal-3\"])\n",
    "        self.assertEqual(result, 18, f\"Expected 18, got {result}\")"
   ]
  }
 ],
 "metadata": {
  "kernelspec": {
   "display_name": "Python 3",
   "language": "python",
   "name": "python3"
  },
  "language_info": {
   "codemirror_mode": {
    "name": "ipython",
    "version": 3
   },
   "file_extension": ".py",
   "mimetype": "text/x-python",
   "name": "python",
   "nbconvert_exporter": "python",
   "pygments_lexer": "ipython3",
   "version": "3.11.4"
  }
 },
 "nbformat": 4,
 "nbformat_minor": 2
}
